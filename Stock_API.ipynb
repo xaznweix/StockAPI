{
  "nbformat": 4,
  "nbformat_minor": 0,
  "metadata": {
    "colab": {
      "name": "Stock API",
      "provenance": []
    },
    "kernelspec": {
      "display_name": "Python 3",
      "language": "python",
      "name": "python3"
    },
    "language_info": {
      "codemirror_mode": {
        "name": "ipython",
        "version": 3
      },
      "file_extension": ".py",
      "mimetype": "text/x-python",
      "name": "python",
      "nbconvert_exporter": "python",
      "pygments_lexer": "ipython3",
      "version": "3.8.5"
    }
  },
  "cells": [
    {
      "cell_type": "markdown",
      "metadata": {
        "id": "P4ng-tcO99TN"
      },
      "source": [
        "# CIS9650 Final Project\n",
        "Project Deadline: 05/17/21 (11:59pm)\n",
        "\n",
        "Contributors:\n",
        "Wei Bin Li, Sophia Newman, Jonathan Satizabal"
      ]
    },
    {
      "cell_type": "code",
      "metadata": {
        "id": "g_nEOenRGrFI"
      },
      "source": [
        "#!pip install alpha_vantage\n",
        "#!pip install yfinance"
      ],
      "execution_count": null,
      "outputs": []
    },
    {
      "cell_type": "code",
      "metadata": {
        "id": "_fubijTb99Tb"
      },
      "source": [
        "# Import all the necessary libraries\n",
        "import numpy as np\n",
        "import pandas as pd\n",
        "import matplotlib.pyplot as plt \n",
        "from sklearn.linear_model import LinearRegression\n",
        "from sklearn import linear_model\n",
        "import datetime\n",
        "import requests\n",
        "from alpha_vantage.timeseries import TimeSeries\n",
        "import seaborn as sns\n",
        "from pandas.plotting import register_matplotlib_converters\n",
        "register_matplotlib_converters()\n",
        "import yfinance as yf\n"
      ],
      "execution_count": null,
      "outputs": []
    },
    {
      "cell_type": "markdown",
      "metadata": {
        "id": "Wsgmggbq99Td"
      },
      "source": [
        "### Functions created for project\n",
        "Below are the functions created that will be used later on in the code."
      ]
    },
    {
      "cell_type": "markdown",
      "metadata": {
        "id": "kGmESqJn-t_S"
      },
      "source": [
        "**Stock functions**\n",
        "1. **getstock** is a function that calls the Alpha vantage API to retrieve the daily price of the stock from January 1st of 2019 to December 31 of 2019. \n",
        "It also change the column names and includes a new column called percentage change in closing price. It takes on one parameter, which is the ticker of the stock. \n",
        "\n",
        "2. **plotStock** is a function that plots the percentage change in closing price of the stock vs the time as a bar plot. It takes one parameter, which is the stock ticker\n",
        "\n",
        "3. **merge** is a function that will combine the closing price of your stock ticker to the closing price of the SP 500 into one pandas dataframe. It will allow you to plot using seaborn. It takes one parameter, which is the stock you want to merge with the SP 500. \n",
        "\n",
        "**Crypto functions**\n",
        "1. **get_crypto_data** is a function that does the same thing as the getstock function but retrieves crypto data from the Alpha vantage API. It will also delete columns such as: \"1b. open (USD)\",\"2b. high (USD)\", \"3b. low (USD)\" , \"4b. close (USD)\", \"5. volume\", \"6. market cap (USD)\" and renames them to:\n",
        "\"open\", \"high\", \"low\", and \"close\". This function takes two parameters, the crypto currency symbol and the currency you wish to exchange to (i.e. USD, EUR, CNY, etc.). USD = united states dollars, EUR = euro, CNY = chinese yuan etc. \n",
        "\n",
        "2. **plotcrypto** is a function that does the same thing as the plotStock function but with crypto data. It takes one parameter, which is the crypto currency symbol.\n",
        "\n",
        "3. **mergeCrypto** is a function similar to the merge function for stocks but it does it with the crypto currency of your choice and the SP 500. Since there is 365 trading days for crypto currency and there are 252 trading days in the stock exchange, we had to use .loc[1:252] on the crypto currency to match the number of trading days on the stock exchange. \n",
        "\n",
        "**Foreign currency functions**\n",
        "1. **get_fx_data** is a function that retrives currency data and converts the values into another currency. For example, converting chinese yuan (CNY) to United States Dollars (USD). It takes two parameters 'from_currency' and 'to_currency'. \n",
        "\n",
        "2. **plotcurrency** is a function that does the same thing as the plotStock function but with foreign currency data. It takes one parameter, which is the foreign currency ticker symbol.\n",
        "\n",
        "3. **mergeCurrency** is a function similar to the merge function for stocks but it does it with the foreign currency of your choice and the SP 500. Since there is 365 trading days for foreign currency and there are 252 trading days in the stock exchange, we had to use .loc[1:252] on the foreign currency to match the number of trading days on the stock exchange. \n",
        "\n",
        "\n",
        "**General functions:**\n",
        "1. **linearRegression** is a function that finds the slope, intercept, R^2, and the mean square error of your desire asset (x) and the SP 500 (y). It takes two parameters, x and y. \n",
        "\n"
      ]
    },
    {
      "cell_type": "code",
      "metadata": {
        "id": "JeyOYEmT99Te"
      },
      "source": [
        "# APIs limited 5 calls per minute\n",
        "# which is why we have \n",
        "# four API keys: IJVYA70VH6LPPS4W, V66JKSAVB9ISAQT9, \n",
        "# BXXYAY9WTRDO40L4, 6S4FV6XVY0ITGRT7\n",
        "\n",
        "# stock --> worked with library\n",
        "\n",
        "# function to get STOCK data using an API key\n",
        "def getstock(stock): \n",
        "  api_key = 'BXXYAY9WTRDO40L4'\n",
        "  ts = TimeSeries(key = api_key, output_format = 'pandas')\n",
        "  data, meta_data = ts.get_daily(symbol = stock, outputsize = 'full')\n",
        "  columns = ['open', 'high', 'low','close', 'volume']\n",
        "  data.columns = columns\n",
        "  data = pd.DataFrame(data.loc['2019-12-31':'2019-01-01'])\n",
        "  data = data.iloc[::-1]\n",
        "  percentage_change = data['close']/data['close'].shift(1)-1\n",
        "  percentage_change = percentage_change*100\n",
        "  data[f'% change in close in {stock}'] = percentage_change\n",
        "  data = pd.DataFrame(data)\n",
        "  data = data.reset_index()\n",
        "  return data"
      ],
      "execution_count": null,
      "outputs": []
    },
    {
      "cell_type": "code",
      "metadata": {
        "id": "3hdrQOlx99Tf"
      },
      "source": [
        "# function to get CRYPTOs\n",
        "# crypto --> worked w/ online api\n",
        "\n",
        "def get_crypto_data(symbol, market):\n",
        "    api_key = \"V66JKSAVB9ISAQT9\"\n",
        "    api_url = f'https://www.alphavantage.co/query?function=DIGITAL_CURRENCY_DAILY&symbol={symbol}&market={market}&apikey={api_key}'\n",
        "    raw_df = requests.get(api_url).json()\n",
        "    df = pd.DataFrame(raw_df['Time Series (Digital Currency Daily)']).T\n",
        "\n",
        "    for i in df.columns:\n",
        "        df[i] = df[i].astype(float)\n",
        "\n",
        "    df.index = pd.to_datetime(df.index)\n",
        "    df = df.iloc[::-1]\n",
        "    df = df.loc['2019-01-01': '2019-12-31']\n",
        "    \n",
        "    columns_to_drop = [\"1b. open (USD)\",\"2b. high (USD)\", \"3b. low (USD)\" , \"4b. close (USD)\", \"5. volume\", \"6. market cap (USD)\"]\n",
        "    df = df.drop(columns = columns_to_drop)\n",
        "    df.rename(columns={'1a. open (USD)': 'open', '2a. high (USD)': 'high', '3a. low (USD)': 'low', '4a. close (USD)': 'close'}, inplace=True)\n",
        "    \n",
        "    percentage_change = df['close']/df['close'].shift(1)-1\n",
        "    percentage_change = percentage_change*100\n",
        "    df[f'% change in close in {symbol}'] = percentage_change\n",
        "    \n",
        "    df = pd.DataFrame(df)\n",
        "    df = df.reset_index()\n",
        "    df.rename(columns = {'index': 'date'}, inplace = True)\n",
        "    \n",
        "    return df"
      ],
      "execution_count": null,
      "outputs": []
    },
    {
      "cell_type": "code",
      "metadata": {
        "id": "ni5-udlJ99Tg"
      },
      "source": [
        "def get_fx_data(from_symbol, to_symbol):\n",
        "    api_key = \"6S4FV6XVY0ITGRT7\"\n",
        "    api_url = f'https://www.alphavantage.co/query?function=FX_DAILY&from_symbol={from_symbol}&to_symbol={to_symbol}&outputsize=full&apikey={api_key}'\n",
        "    raw_df = requests.get(api_url).json()\n",
        "    df = pd.DataFrame(raw_df['Time Series FX (Daily)']).T\n",
        "\n",
        "    for i in df.columns:\n",
        "        df[i] = df[i].astype(float)\n",
        "\n",
        "    df.index = pd.to_datetime(df.index)\n",
        "    df = df.iloc[::-1]\n",
        "    df = df.loc['2019-01-01': '2019-12-31']\n",
        "    \n",
        "    percentage_change = df['4. close']/df['4. close'].shift(1)-1\n",
        "    percentage_change = percentage_change*100\n",
        "    df[f'% change in close in {from_symbol}'] = percentage_change\n",
        "    \n",
        "    df = df.reset_index()\n",
        "    df.rename(columns = {'index': 'date'}, inplace = True)\n",
        "    df = df.iloc[0:252]\n",
        "    \n",
        "    return df"
      ],
      "execution_count": null,
      "outputs": []
    },
    {
      "cell_type": "code",
      "metadata": {
        "id": "GSjiPWPn99Ti"
      },
      "source": [
        "# function to plot stock % change data\n",
        "\n",
        "def plotStock(stock):\n",
        "  fig = plt.figure()\n",
        "  ax = fig.add_axes([0,0,1,1])\n",
        "  ax.bar(getstock(stock)['date'], getstock(stock)[f'% change in close in {stock}'], color = 'blue')\n",
        "  plt.title(f'% change in closing price vs date for {stock}')\n",
        "  plt.xlabel(\"date\")\n",
        "  plt.ylabel(\"% change in closing price\")\n",
        "  return plt.show()"
      ],
      "execution_count": null,
      "outputs": []
    },
    {
      "cell_type": "code",
      "metadata": {
        "id": "-ONfCMBD99Ti"
      },
      "source": [
        "# function to plot crypto % change data\n",
        "\n",
        "def plotcrypto(crypto):\n",
        "  fig = plt.figure()\n",
        "  ax = fig.add_axes([0,0,1,1])\n",
        "  ax.bar(get_crypto_data(crypto, 'USD')['date'],get_crypto_data(crypto, 'USD')[f'% change in close in {crypto}'],\n",
        "        color = 'k')\n",
        "  plt.title(f'% change in closing price vs date for {crypto}')\n",
        "  plt.xlabel(\"date\")\n",
        "  plt.ylabel(\"% change in closing price\")\n",
        "  return plt.show()"
      ],
      "execution_count": null,
      "outputs": []
    },
    {
      "cell_type": "code",
      "metadata": {
        "id": "V6MnTd_G99Tj"
      },
      "source": [
        "# function to plot crypto % change data \n",
        "\n",
        "def plotcurrency(currency):\n",
        "    fig = plt.figure()\n",
        "    ax = fig.add_axes([0,0,1,1])\n",
        "    ax.bar(get_fx_data(currency, 'USD')['date'],get_fx_data(currency, 'USD')[f'% change in close in {currency}'],\n",
        "        color = 'green')\n",
        "    plt.title(f'% change in closing price vs date for {currency}')\n",
        "    plt.xlabel(\"date\")\n",
        "    plt.ylabel(\"% change in closing price\")\n",
        "    return plt.show()"
      ],
      "execution_count": null,
      "outputs": []
    },
    {
      "cell_type": "code",
      "metadata": {
        "id": "PkwKrGXg99Tk"
      },
      "source": [
        "# function to merge % change stock data and % change sp500 data\n",
        "\n",
        "def merge(stockName):\n",
        "  stock = getstock(stockName)[f'% change in close in {stockName}']\n",
        "  SP500 = getstock('SPY')['% change in close in SPY']\n",
        "  new_stock = stock.iloc[1:]\n",
        "  SP500 = SP500.iloc[1:]\n",
        "  new_stock = np.array([new_stock,SP500])\n",
        "  new_stock = new_stock.transpose()\n",
        "  new_stock = pd.DataFrame(new_stock, columns = [f'% change in close in {stockName}','% change in close in SPY'])\n",
        "\n",
        "  return new_stock"
      ],
      "execution_count": null,
      "outputs": []
    },
    {
      "cell_type": "code",
      "metadata": {
        "id": "jUyot1PL99Tl"
      },
      "source": [
        "# function to merge % change stock data and % change sp500 data\n",
        "\n",
        "def mergeCrypto(symbol):\n",
        "  crypto = get_crypto_data(symbol, 'USD')[f'% change in close in {symbol}']\n",
        "  SP500 = getstock('SPY')['% change in close in SPY']\n",
        "  new_crypto = crypto.iloc[1:252]\n",
        "  SP500 = SP500.iloc[1:]\n",
        "  new_crypto = np.array([new_crypto,SP500])\n",
        "  new_crypto = new_crypto.transpose()\n",
        "  new_crypto = pd.DataFrame(new_crypto, columns = [f'% change in close in {symbol}','% change in close in SPY'])\n",
        "\n",
        "  return new_crypto"
      ],
      "execution_count": null,
      "outputs": []
    },
    {
      "cell_type": "code",
      "metadata": {
        "id": "oxoIpUlp99Tm"
      },
      "source": [
        "# function to merge currency and sp500 data\n",
        "\n",
        "def mergeCurrency(currency):\n",
        "    fx = get_fx_data(currency, 'USD')[f'% change in close in {currency}']\n",
        "    SP500 = getstock('SPY')['% change in close in SPY']\n",
        "    \n",
        "    new_currency = fx.iloc[1:252]\n",
        "    SP500 = SP500.iloc[1:]\n",
        "    \n",
        "    #new_currency = new_currency[f'% change in close in {currency}']\n",
        "    new_currency = np.array([new_currency, SP500])\n",
        "    new_currency = new_currency.transpose()\n",
        "    new_currency = pd.DataFrame(new_currency, columns = [f'% change in close in {currency}','% change in close in SPY'])\n",
        "    \n",
        "    return new_currency"
      ],
      "execution_count": null,
      "outputs": []
    },
    {
      "cell_type": "code",
      "metadata": {
        "id": "7iUhQ2rY99Tn"
      },
      "source": [
        "# function to figure out slope and intercept of asset we're looking at and sp500\n",
        "# x = asset (ticker)\n",
        "# y = sp500 (ticker)\n",
        "\n",
        "# x and y have to be 1 dimentional row / vector\n",
        "# have to have same number of rows\n",
        "\n",
        "def linearRegression(x,y):\n",
        "  x = np.array(x)\n",
        "  n = np.size(x)\n",
        "  x_mean = np.mean(x)\n",
        "  y_mean = np.mean(y)\n",
        "  x_mean,y_mean\n",
        "  \n",
        "  Sxy = np.sum(x*y)- n*x_mean*y_mean\n",
        "  Sxx = np.sum(x*x)-n*x_mean*x_mean\n",
        "  \n",
        "  b1 = Sxy/Sxx\n",
        "  b0 = y_mean-b1*x_mean\n",
        "  y_pred = b1 * x + b0\n",
        "\n",
        "  error = y - y_pred\n",
        "  se = np.sum(error**2)\n",
        "  mse = se/n \n",
        "\n",
        "  SSt = np.sum((y - y_mean)**2)\n",
        "  R2 = 1- (se/SSt)\n",
        "\n",
        "  return b0,b1,mse,R2"
      ],
      "execution_count": null,
      "outputs": []
    },
    {
      "cell_type": "code",
      "metadata": {
        "id": "cMPFudCl99Tp"
      },
      "source": [
        ""
      ],
      "execution_count": null,
      "outputs": []
    },
    {
      "cell_type": "markdown",
      "metadata": {
        "id": "TOG5WHTd99Tp"
      },
      "source": [
        "# 1. Collecting Data\n",
        "\n",
        "### 1a. Choose 5  equities or assets \n",
        "Choose 5 distinct equities or assets(oil, gold, bonds, currency pairs, bitcoins, etc…). Verify there is data available to import from Quandl, Alpha Vantage or Yahoo Finance.\n",
        "\n",
        "### 1b. Import Data\n",
        "Import daily prices (adj closing or spot) for all 5 assets. Use **1/1/2019** as the start date and **12/31/2019** as the end date. Display the first 5 rows and the total count for each asset.\n",
        "\n",
        "### 2a. Calulate Daily % Change\n",
        "Calculate daily % change for each of the assets and the SP500. Display the first 5 rows and the total count for each data set.\n",
        "\n",
        "\n",
        "\n",
        "***Above 3 steps done in below 1 step using getstock, get_crypto_data, get_fx_data***"
      ]
    },
    {
      "cell_type": "code",
      "metadata": {
        "colab": {
          "base_uri": "https://localhost:8080/",
          "height": 195
        },
        "id": "FGlKQ7ak99Tr",
        "outputId": "23c339fd-c267-438c-cc9e-40c5637409b6"
      },
      "source": [
        "# Microsoft (Data first 5 rows)\n",
        "MSFT_data = getstock('MSFT')\n",
        "MSFT_data.head()"
      ],
      "execution_count": null,
      "outputs": [
        {
          "output_type": "execute_result",
          "data": {
            "text/html": [
              "<div>\n",
              "<style scoped>\n",
              "    .dataframe tbody tr th:only-of-type {\n",
              "        vertical-align: middle;\n",
              "    }\n",
              "\n",
              "    .dataframe tbody tr th {\n",
              "        vertical-align: top;\n",
              "    }\n",
              "\n",
              "    .dataframe thead th {\n",
              "        text-align: right;\n",
              "    }\n",
              "</style>\n",
              "<table border=\"1\" class=\"dataframe\">\n",
              "  <thead>\n",
              "    <tr style=\"text-align: right;\">\n",
              "      <th></th>\n",
              "      <th>date</th>\n",
              "      <th>open</th>\n",
              "      <th>high</th>\n",
              "      <th>low</th>\n",
              "      <th>close</th>\n",
              "      <th>volume</th>\n",
              "      <th>% change in close in MSFT</th>\n",
              "    </tr>\n",
              "  </thead>\n",
              "  <tbody>\n",
              "    <tr>\n",
              "      <th>0</th>\n",
              "      <td>2019-01-02</td>\n",
              "      <td>99.55</td>\n",
              "      <td>101.75</td>\n",
              "      <td>98.94</td>\n",
              "      <td>101.12</td>\n",
              "      <td>35329345.0</td>\n",
              "      <td>NaN</td>\n",
              "    </tr>\n",
              "    <tr>\n",
              "      <th>1</th>\n",
              "      <td>2019-01-03</td>\n",
              "      <td>100.10</td>\n",
              "      <td>100.19</td>\n",
              "      <td>97.20</td>\n",
              "      <td>97.40</td>\n",
              "      <td>42578410.0</td>\n",
              "      <td>-3.678797</td>\n",
              "    </tr>\n",
              "    <tr>\n",
              "      <th>2</th>\n",
              "      <td>2019-01-04</td>\n",
              "      <td>99.72</td>\n",
              "      <td>102.51</td>\n",
              "      <td>98.93</td>\n",
              "      <td>101.93</td>\n",
              "      <td>44060620.0</td>\n",
              "      <td>4.650924</td>\n",
              "    </tr>\n",
              "    <tr>\n",
              "      <th>3</th>\n",
              "      <td>2019-01-07</td>\n",
              "      <td>101.64</td>\n",
              "      <td>103.27</td>\n",
              "      <td>100.98</td>\n",
              "      <td>102.06</td>\n",
              "      <td>35656136.0</td>\n",
              "      <td>0.127539</td>\n",
              "    </tr>\n",
              "    <tr>\n",
              "      <th>4</th>\n",
              "      <td>2019-01-08</td>\n",
              "      <td>103.04</td>\n",
              "      <td>103.97</td>\n",
              "      <td>101.71</td>\n",
              "      <td>102.80</td>\n",
              "      <td>31514415.0</td>\n",
              "      <td>0.725064</td>\n",
              "    </tr>\n",
              "  </tbody>\n",
              "</table>\n",
              "</div>"
            ],
            "text/plain": [
              "        date    open    high  ...   close      volume  % change in close in MSFT\n",
              "0 2019-01-02   99.55  101.75  ...  101.12  35329345.0                        NaN\n",
              "1 2019-01-03  100.10  100.19  ...   97.40  42578410.0                  -3.678797\n",
              "2 2019-01-04   99.72  102.51  ...  101.93  44060620.0                   4.650924\n",
              "3 2019-01-07  101.64  103.27  ...  102.06  35656136.0                   0.127539\n",
              "4 2019-01-08  103.04  103.97  ...  102.80  31514415.0                   0.725064\n",
              "\n",
              "[5 rows x 7 columns]"
            ]
          },
          "metadata": {
            "tags": []
          },
          "execution_count": 14
        }
      ]
    },
    {
      "cell_type": "code",
      "metadata": {
        "colab": {
          "base_uri": "https://localhost:8080/",
          "height": 195
        },
        "id": "Pa45HAzZ99Tt",
        "outputId": "b543087d-b592-4879-bf7b-5b7b025870dd"
      },
      "source": [
        "# Bitcoin(Data first 5 rows)\n",
        "BTC_data = get_crypto_data('BTC', 'USD')\n",
        "BTC_data.head()"
      ],
      "execution_count": null,
      "outputs": [
        {
          "output_type": "execute_result",
          "data": {
            "text/html": [
              "<div>\n",
              "<style scoped>\n",
              "    .dataframe tbody tr th:only-of-type {\n",
              "        vertical-align: middle;\n",
              "    }\n",
              "\n",
              "    .dataframe tbody tr th {\n",
              "        vertical-align: top;\n",
              "    }\n",
              "\n",
              "    .dataframe thead th {\n",
              "        text-align: right;\n",
              "    }\n",
              "</style>\n",
              "<table border=\"1\" class=\"dataframe\">\n",
              "  <thead>\n",
              "    <tr style=\"text-align: right;\">\n",
              "      <th></th>\n",
              "      <th>date</th>\n",
              "      <th>open</th>\n",
              "      <th>high</th>\n",
              "      <th>low</th>\n",
              "      <th>close</th>\n",
              "      <th>% change in close in BTC</th>\n",
              "    </tr>\n",
              "  </thead>\n",
              "  <tbody>\n",
              "    <tr>\n",
              "      <th>0</th>\n",
              "      <td>2019-01-01</td>\n",
              "      <td>3701.23</td>\n",
              "      <td>3810.16</td>\n",
              "      <td>3642.00</td>\n",
              "      <td>3797.14</td>\n",
              "      <td>NaN</td>\n",
              "    </tr>\n",
              "    <tr>\n",
              "      <th>1</th>\n",
              "      <td>2019-01-02</td>\n",
              "      <td>3796.45</td>\n",
              "      <td>3882.14</td>\n",
              "      <td>3750.45</td>\n",
              "      <td>3858.56</td>\n",
              "      <td>1.617533</td>\n",
              "    </tr>\n",
              "    <tr>\n",
              "      <th>2</th>\n",
              "      <td>2019-01-03</td>\n",
              "      <td>3857.57</td>\n",
              "      <td>3862.74</td>\n",
              "      <td>3730.00</td>\n",
              "      <td>3766.78</td>\n",
              "      <td>-2.378608</td>\n",
              "    </tr>\n",
              "    <tr>\n",
              "      <th>3</th>\n",
              "      <td>2019-01-04</td>\n",
              "      <td>3767.20</td>\n",
              "      <td>3823.64</td>\n",
              "      <td>3703.57</td>\n",
              "      <td>3792.01</td>\n",
              "      <td>0.669803</td>\n",
              "    </tr>\n",
              "    <tr>\n",
              "      <th>4</th>\n",
              "      <td>2019-01-05</td>\n",
              "      <td>3790.09</td>\n",
              "      <td>3840.99</td>\n",
              "      <td>3751.00</td>\n",
              "      <td>3770.96</td>\n",
              "      <td>-0.555115</td>\n",
              "    </tr>\n",
              "  </tbody>\n",
              "</table>\n",
              "</div>"
            ],
            "text/plain": [
              "        date     open     high      low    close  % change in close in BTC\n",
              "0 2019-01-01  3701.23  3810.16  3642.00  3797.14                       NaN\n",
              "1 2019-01-02  3796.45  3882.14  3750.45  3858.56                  1.617533\n",
              "2 2019-01-03  3857.57  3862.74  3730.00  3766.78                 -2.378608\n",
              "3 2019-01-04  3767.20  3823.64  3703.57  3792.01                  0.669803\n",
              "4 2019-01-05  3790.09  3840.99  3751.00  3770.96                 -0.555115"
            ]
          },
          "metadata": {
            "tags": []
          },
          "execution_count": 13
        }
      ]
    },
    {
      "cell_type": "code",
      "metadata": {
        "colab": {
          "base_uri": "https://localhost:8080/",
          "height": 195
        },
        "id": "fCgBgD1299Tu",
        "outputId": "6cb3d1ed-475c-42ec-bee2-c3b24916e36a"
      },
      "source": [
        "# Ethereum \n",
        "ETH_data = get_crypto_data('ETH', 'USD')\n",
        "ETH_data.head()"
      ],
      "execution_count": null,
      "outputs": [
        {
          "output_type": "execute_result",
          "data": {
            "text/html": [
              "<div>\n",
              "<style scoped>\n",
              "    .dataframe tbody tr th:only-of-type {\n",
              "        vertical-align: middle;\n",
              "    }\n",
              "\n",
              "    .dataframe tbody tr th {\n",
              "        vertical-align: top;\n",
              "    }\n",
              "\n",
              "    .dataframe thead th {\n",
              "        text-align: right;\n",
              "    }\n",
              "</style>\n",
              "<table border=\"1\" class=\"dataframe\">\n",
              "  <thead>\n",
              "    <tr style=\"text-align: right;\">\n",
              "      <th></th>\n",
              "      <th>date</th>\n",
              "      <th>open</th>\n",
              "      <th>high</th>\n",
              "      <th>low</th>\n",
              "      <th>close</th>\n",
              "      <th>% change in close in ETH</th>\n",
              "    </tr>\n",
              "  </thead>\n",
              "  <tbody>\n",
              "    <tr>\n",
              "      <th>0</th>\n",
              "      <td>2019-01-01</td>\n",
              "      <td>131.45</td>\n",
              "      <td>140.67</td>\n",
              "      <td>130.00</td>\n",
              "      <td>139.10</td>\n",
              "      <td>NaN</td>\n",
              "    </tr>\n",
              "    <tr>\n",
              "      <th>1</th>\n",
              "      <td>2019-01-02</td>\n",
              "      <td>139.10</td>\n",
              "      <td>155.37</td>\n",
              "      <td>137.76</td>\n",
              "      <td>152.01</td>\n",
              "      <td>9.281093</td>\n",
              "    </tr>\n",
              "    <tr>\n",
              "      <th>2</th>\n",
              "      <td>2019-01-03</td>\n",
              "      <td>152.01</td>\n",
              "      <td>153.64</td>\n",
              "      <td>143.11</td>\n",
              "      <td>146.30</td>\n",
              "      <td>-3.756332</td>\n",
              "    </tr>\n",
              "    <tr>\n",
              "      <th>3</th>\n",
              "      <td>2019-01-04</td>\n",
              "      <td>146.30</td>\n",
              "      <td>154.80</td>\n",
              "      <td>143.54</td>\n",
              "      <td>151.97</td>\n",
              "      <td>3.875598</td>\n",
              "    </tr>\n",
              "    <tr>\n",
              "      <th>4</th>\n",
              "      <td>2019-01-05</td>\n",
              "      <td>152.08</td>\n",
              "      <td>159.26</td>\n",
              "      <td>151.20</td>\n",
              "      <td>152.83</td>\n",
              "      <td>0.565901</td>\n",
              "    </tr>\n",
              "  </tbody>\n",
              "</table>\n",
              "</div>"
            ],
            "text/plain": [
              "        date    open    high     low   close  % change in close in ETH\n",
              "0 2019-01-01  131.45  140.67  130.00  139.10                       NaN\n",
              "1 2019-01-02  139.10  155.37  137.76  152.01                  9.281093\n",
              "2 2019-01-03  152.01  153.64  143.11  146.30                 -3.756332\n",
              "3 2019-01-04  146.30  154.80  143.54  151.97                  3.875598\n",
              "4 2019-01-05  152.08  159.26  151.20  152.83                  0.565901"
            ]
          },
          "metadata": {
            "tags": []
          },
          "execution_count": 23
        }
      ]
    },
    {
      "cell_type": "code",
      "metadata": {
        "colab": {
          "base_uri": "https://localhost:8080/",
          "height": 195
        },
        "id": "ckK8MPgw99Tu",
        "outputId": "2716082c-8a38-40eb-b060-35e5c4f5f9bb"
      },
      "source": [
        "# RMB\n",
        "CNY_data = get_fx_data('CNY', 'USD')\n",
        "CNY_data.head()"
      ],
      "execution_count": null,
      "outputs": [
        {
          "output_type": "execute_result",
          "data": {
            "text/html": [
              "<div>\n",
              "<style scoped>\n",
              "    .dataframe tbody tr th:only-of-type {\n",
              "        vertical-align: middle;\n",
              "    }\n",
              "\n",
              "    .dataframe tbody tr th {\n",
              "        vertical-align: top;\n",
              "    }\n",
              "\n",
              "    .dataframe thead th {\n",
              "        text-align: right;\n",
              "    }\n",
              "</style>\n",
              "<table border=\"1\" class=\"dataframe\">\n",
              "  <thead>\n",
              "    <tr style=\"text-align: right;\">\n",
              "      <th></th>\n",
              "      <th>date</th>\n",
              "      <th>1. open</th>\n",
              "      <th>2. high</th>\n",
              "      <th>3. low</th>\n",
              "      <th>4. close</th>\n",
              "      <th>% change in close in CNY</th>\n",
              "    </tr>\n",
              "  </thead>\n",
              "  <tbody>\n",
              "    <tr>\n",
              "      <th>0</th>\n",
              "      <td>2019-01-01</td>\n",
              "      <td>0.1454</td>\n",
              "      <td>0.1454</td>\n",
              "      <td>0.1453</td>\n",
              "      <td>0.1454</td>\n",
              "      <td>NaN</td>\n",
              "    </tr>\n",
              "    <tr>\n",
              "      <th>1</th>\n",
              "      <td>2019-01-02</td>\n",
              "      <td>0.1454</td>\n",
              "      <td>0.1460</td>\n",
              "      <td>0.1453</td>\n",
              "      <td>0.1457</td>\n",
              "      <td>0.206327</td>\n",
              "    </tr>\n",
              "    <tr>\n",
              "      <th>2</th>\n",
              "      <td>2019-01-03</td>\n",
              "      <td>0.1457</td>\n",
              "      <td>0.1457</td>\n",
              "      <td>0.1452</td>\n",
              "      <td>0.1455</td>\n",
              "      <td>-0.137268</td>\n",
              "    </tr>\n",
              "    <tr>\n",
              "      <th>3</th>\n",
              "      <td>2019-01-04</td>\n",
              "      <td>0.1455</td>\n",
              "      <td>0.1457</td>\n",
              "      <td>0.1455</td>\n",
              "      <td>0.1456</td>\n",
              "      <td>0.068729</td>\n",
              "    </tr>\n",
              "    <tr>\n",
              "      <th>4</th>\n",
              "      <td>2019-01-07</td>\n",
              "      <td>0.1459</td>\n",
              "      <td>0.1461</td>\n",
              "      <td>0.1459</td>\n",
              "      <td>0.1459</td>\n",
              "      <td>0.206044</td>\n",
              "    </tr>\n",
              "  </tbody>\n",
              "</table>\n",
              "</div>"
            ],
            "text/plain": [
              "        date  1. open  2. high  3. low  4. close  % change in close in CNY\n",
              "0 2019-01-01   0.1454   0.1454  0.1453    0.1454                       NaN\n",
              "1 2019-01-02   0.1454   0.1460  0.1453    0.1457                  0.206327\n",
              "2 2019-01-03   0.1457   0.1457  0.1452    0.1455                 -0.137268\n",
              "3 2019-01-04   0.1455   0.1457  0.1455    0.1456                  0.068729\n",
              "4 2019-01-07   0.1459   0.1461  0.1459    0.1459                  0.206044"
            ]
          },
          "metadata": {
            "tags": []
          },
          "execution_count": 15
        }
      ]
    },
    {
      "cell_type": "code",
      "metadata": {
        "colab": {
          "base_uri": "https://localhost:8080/",
          "height": 195
        },
        "id": "9fJll1c699Tv",
        "outputId": "3b90d4b4-a114-4111-d537-ec6b7a60334d"
      },
      "source": [
        "# Euro\n",
        "EUR_data = get_fx_data('EUR', 'USD')\n",
        "EUR_data.head()"
      ],
      "execution_count": null,
      "outputs": [
        {
          "output_type": "execute_result",
          "data": {
            "text/html": [
              "<div>\n",
              "<style scoped>\n",
              "    .dataframe tbody tr th:only-of-type {\n",
              "        vertical-align: middle;\n",
              "    }\n",
              "\n",
              "    .dataframe tbody tr th {\n",
              "        vertical-align: top;\n",
              "    }\n",
              "\n",
              "    .dataframe thead th {\n",
              "        text-align: right;\n",
              "    }\n",
              "</style>\n",
              "<table border=\"1\" class=\"dataframe\">\n",
              "  <thead>\n",
              "    <tr style=\"text-align: right;\">\n",
              "      <th></th>\n",
              "      <th>date</th>\n",
              "      <th>1. open</th>\n",
              "      <th>2. high</th>\n",
              "      <th>3. low</th>\n",
              "      <th>4. close</th>\n",
              "      <th>% change in close in EUR</th>\n",
              "    </tr>\n",
              "  </thead>\n",
              "  <tbody>\n",
              "    <tr>\n",
              "      <th>0</th>\n",
              "      <td>2019-01-01</td>\n",
              "      <td>1.14650</td>\n",
              "      <td>1.15450</td>\n",
              "      <td>1.14460</td>\n",
              "      <td>1.14609</td>\n",
              "      <td>NaN</td>\n",
              "    </tr>\n",
              "    <tr>\n",
              "      <th>1</th>\n",
              "      <td>2019-01-02</td>\n",
              "      <td>1.14606</td>\n",
              "      <td>1.14968</td>\n",
              "      <td>1.13105</td>\n",
              "      <td>1.13369</td>\n",
              "      <td>-1.081939</td>\n",
              "    </tr>\n",
              "    <tr>\n",
              "      <th>2</th>\n",
              "      <td>2019-01-03</td>\n",
              "      <td>1.13330</td>\n",
              "      <td>1.14110</td>\n",
              "      <td>1.13080</td>\n",
              "      <td>1.13932</td>\n",
              "      <td>0.496608</td>\n",
              "    </tr>\n",
              "    <tr>\n",
              "      <th>3</th>\n",
              "      <td>2019-01-04</td>\n",
              "      <td>1.13932</td>\n",
              "      <td>1.14191</td>\n",
              "      <td>1.13440</td>\n",
              "      <td>1.13942</td>\n",
              "      <td>0.008777</td>\n",
              "    </tr>\n",
              "    <tr>\n",
              "      <th>4</th>\n",
              "      <td>2019-01-07</td>\n",
              "      <td>1.14046</td>\n",
              "      <td>1.14826</td>\n",
              "      <td>1.14020</td>\n",
              "      <td>1.14751</td>\n",
              "      <td>0.710010</td>\n",
              "    </tr>\n",
              "  </tbody>\n",
              "</table>\n",
              "</div>"
            ],
            "text/plain": [
              "        date  1. open  2. high   3. low  4. close  % change in close in EUR\n",
              "0 2019-01-01  1.14650  1.15450  1.14460   1.14609                       NaN\n",
              "1 2019-01-02  1.14606  1.14968  1.13105   1.13369                 -1.081939\n",
              "2 2019-01-03  1.13330  1.14110  1.13080   1.13932                  0.496608\n",
              "3 2019-01-04  1.13932  1.14191  1.13440   1.13942                  0.008777\n",
              "4 2019-01-07  1.14046  1.14826  1.14020   1.14751                  0.710010"
            ]
          },
          "metadata": {
            "tags": []
          },
          "execution_count": 16
        }
      ]
    },
    {
      "cell_type": "code",
      "metadata": {
        "id": "7Xh7n3Hu99Tv"
      },
      "source": [
        "# Print the count for each of the 5 assets\n",
        "\n",
        "#MSFT_data.describe()\n",
        "\n",
        "#print('Total Count for MSFT:', getstock('MSFT').shape)\n",
        "#print('Total Count for MSFT:', getstock('MSFT').size)\n",
        "\n",
        "#print('Total Count for BTC:', get_crypto_data('BTC', 'USD').shape)\n",
        "#print('Total Count for BTC:', get_crypto_data('BTC', 'USD').size)\n",
        "\n",
        "#print('Total Count for ETH:', get_crypto_data('ETH', 'USD').shape)\n",
        "#print('Total Count for ETH:', get_crypto_data('ETH', 'USD').size)\n",
        "\n",
        "#print('Total Count for CNY:', get_fx_data('CNY', 'USD').shape)\n",
        "#print('Total Count for CNY:', get_fx_data('CNY', 'USD').size)\n",
        "\n",
        "#print('Total Count for CNY:', get_fx_data('EUR', 'USD').shape)\n",
        "#print('Total Count for CNY:', get_fx_data('EUR', 'USD').size)"
      ],
      "execution_count": null,
      "outputs": []
    },
    {
      "cell_type": "markdown",
      "metadata": {
        "id": "TwyV9B2M99Tv"
      },
      "source": [
        "### 1c. Import SP500\n",
        "Import daily prices for SP500. Use **1/1/2019** as the start date and **12/31/2019** as the end date. Display the first 5 rows and the total count of the S&P."
      ]
    },
    {
      "cell_type": "code",
      "metadata": {
        "id": "BMe9Vc8R99Tv",
        "outputId": "94ad4059-cc09-4f5d-bcbc-f5da55298c66"
      },
      "source": [
        "# SP500 (Data first 5 rows)\n",
        "SP500_data = getstock('SPY')\n",
        "\n",
        "SP500_data.head()"
      ],
      "execution_count": null,
      "outputs": [
        {
          "output_type": "execute_result",
          "data": {
            "text/html": [
              "<div>\n",
              "<style scoped>\n",
              "    .dataframe tbody tr th:only-of-type {\n",
              "        vertical-align: middle;\n",
              "    }\n",
              "\n",
              "    .dataframe tbody tr th {\n",
              "        vertical-align: top;\n",
              "    }\n",
              "\n",
              "    .dataframe thead th {\n",
              "        text-align: right;\n",
              "    }\n",
              "</style>\n",
              "<table border=\"1\" class=\"dataframe\">\n",
              "  <thead>\n",
              "    <tr style=\"text-align: right;\">\n",
              "      <th></th>\n",
              "      <th>date</th>\n",
              "      <th>open</th>\n",
              "      <th>high</th>\n",
              "      <th>low</th>\n",
              "      <th>close</th>\n",
              "      <th>volume</th>\n",
              "      <th>% change in close in SPY</th>\n",
              "    </tr>\n",
              "  </thead>\n",
              "  <tbody>\n",
              "    <tr>\n",
              "      <th>0</th>\n",
              "      <td>2019-01-02</td>\n",
              "      <td>245.98</td>\n",
              "      <td>251.21</td>\n",
              "      <td>245.95</td>\n",
              "      <td>250.18</td>\n",
              "      <td>126925199.0</td>\n",
              "      <td>NaN</td>\n",
              "    </tr>\n",
              "    <tr>\n",
              "      <th>1</th>\n",
              "      <td>2019-01-03</td>\n",
              "      <td>248.23</td>\n",
              "      <td>248.57</td>\n",
              "      <td>243.67</td>\n",
              "      <td>244.21</td>\n",
              "      <td>144140692.0</td>\n",
              "      <td>-2.386282</td>\n",
              "    </tr>\n",
              "    <tr>\n",
              "      <th>2</th>\n",
              "      <td>2019-01-04</td>\n",
              "      <td>247.59</td>\n",
              "      <td>253.11</td>\n",
              "      <td>247.17</td>\n",
              "      <td>252.39</td>\n",
              "      <td>142628834.0</td>\n",
              "      <td>3.349576</td>\n",
              "    </tr>\n",
              "    <tr>\n",
              "      <th>3</th>\n",
              "      <td>2019-01-07</td>\n",
              "      <td>252.69</td>\n",
              "      <td>255.95</td>\n",
              "      <td>251.69</td>\n",
              "      <td>254.38</td>\n",
              "      <td>103139100.0</td>\n",
              "      <td>0.788462</td>\n",
              "    </tr>\n",
              "    <tr>\n",
              "      <th>4</th>\n",
              "      <td>2019-01-08</td>\n",
              "      <td>256.82</td>\n",
              "      <td>257.31</td>\n",
              "      <td>254.00</td>\n",
              "      <td>256.77</td>\n",
              "      <td>102512587.0</td>\n",
              "      <td>0.939539</td>\n",
              "    </tr>\n",
              "  </tbody>\n",
              "</table>\n",
              "</div>"
            ],
            "text/plain": [
              "        date    open    high     low   close       volume  \\\n",
              "0 2019-01-02  245.98  251.21  245.95  250.18  126925199.0   \n",
              "1 2019-01-03  248.23  248.57  243.67  244.21  144140692.0   \n",
              "2 2019-01-04  247.59  253.11  247.17  252.39  142628834.0   \n",
              "3 2019-01-07  252.69  255.95  251.69  254.38  103139100.0   \n",
              "4 2019-01-08  256.82  257.31  254.00  256.77  102512587.0   \n",
              "\n",
              "   % change in close in SPY  \n",
              "0                       NaN  \n",
              "1                 -2.386282  \n",
              "2                  3.349576  \n",
              "3                  0.788462  \n",
              "4                  0.939539  "
            ]
          },
          "metadata": {
            "tags": []
          },
          "execution_count": 17
        }
      ]
    },
    {
      "cell_type": "code",
      "metadata": {
        "id": "3sol6B0w99Tw"
      },
      "source": [
        "# Print the count for SP500 (SPY)\n",
        "\n",
        "\n",
        "#print('Total Count for SPY:', getstock('SPY').shape)\n",
        "#print('Total Count for SPY:', getstock('SPY').size)"
      ],
      "execution_count": null,
      "outputs": []
    },
    {
      "cell_type": "markdown",
      "metadata": {
        "id": "q-ABbeXQ99Tw"
      },
      "source": [
        "# 2. Processing Data"
      ]
    },
    {
      "cell_type": "markdown",
      "metadata": {
        "id": "YoHws6Si99Tw"
      },
      "source": [
        "### 2a. Calulate Daily % Change\n",
        "Calculate daily % change for each of the assets and the SP500. Display the first 5 rows and the total count for each data set.\n",
        "(See Above)\n",
        "\n",
        "### 2b. Plot Daily % Change\n",
        "Plot the daily % change data using a bar graph for each asset. (Plot for each asset)"
      ]
    },
    {
      "cell_type": "code",
      "metadata": {
        "id": "oqBeHxRC99Tx",
        "outputId": "2942564d-00b2-4b07-c625-f4306a910b01"
      },
      "source": [
        "# use 'plotStock' function to plot MSFT % change\n",
        "plotStock(\"MSFT\")"
      ],
      "execution_count": null,
      "outputs": [
        {
          "output_type": "display_data",
          "data": {
            "image/png": "[encoded data removed]",
            "text/plain": [
              "<Figure size 432x288 with 1 Axes>"
            ]
          },
          "metadata": {
            "tags": [],
            "needs_background": "light"
          }
        }
      ]
    },
    {
      "cell_type": "code",
      "metadata": {
        "id": "jM1spL8S99Tx",
        "outputId": "2e31a5d7-61a4-48ba-f8f4-c7a049e51070"
      },
      "source": [
        "# use 'plotStock' function to plot SP500 % change\n",
        "plotStock(\"SPY\")"
      ],
      "execution_count": null,
      "outputs": [
        {
          "output_type": "display_data",
          "data": {
            "image/png": "[encoded data removed]",
            "text/plain": [
              "<Figure size 432x288 with 1 Axes>"
            ]
          },
          "metadata": {
            "tags": [],
            "needs_background": "light"
          }
        }
      ]
    },
    {
      "cell_type": "code",
      "metadata": {
        "id": "o9VSVtLW99Tx",
        "outputId": "30842067-14d1-4a54-d772-ccb87498982c"
      },
      "source": [
        "# use 'plotcrypto' function to plot BTC % change\n",
        "plotcrypto(\"BTC\")"
      ],
      "execution_count": null,
      "outputs": [
        {
          "output_type": "display_data",
          "data": {
            "image/png": "[encoded data removed]",
            "text/plain": [
              "<Figure size 432x288 with 1 Axes>"
            ]
          },
          "metadata": {
            "tags": [],
            "needs_background": "light"
          }
        }
      ]
    },
    {
      "cell_type": "code",
      "metadata": {
        "id": "vC9F0tfO99Ty",
        "outputId": "360acdd4-519a-41ce-85a6-91acca837fda"
      },
      "source": [
        "# use 'plotcrypto' function to plot ETH % change\n",
        "plotcrypto('ETH')"
      ],
      "execution_count": null,
      "outputs": [
        {
          "output_type": "display_data",
          "data": {
            "image/png": "[encoded data removed]",
            "text/plain": [
              "<Figure size 432x288 with 1 Axes>"
            ]
          },
          "metadata": {
            "tags": [],
            "needs_background": "light"
          }
        }
      ]
    },
    {
      "cell_type": "code",
      "metadata": {
        "id": "xzwur1O899Ty",
        "outputId": "4da00a61-2980-4511-9465-593f53727277"
      },
      "source": [
        "# use 'plotcurrency' function to plot CNY % change\n",
        "plotcurrency(\"CNY\")"
      ],
      "execution_count": null,
      "outputs": [
        {
          "output_type": "display_data",
          "data": {
            "image/png": "[encoded data removed]",
            "text/plain": [
              "<Figure size 432x288 with 1 Axes>"
            ]
          },
          "metadata": {
            "tags": [],
            "needs_background": "light"
          }
        }
      ]
    },
    {
      "cell_type": "code",
      "metadata": {
        "id": "2fG6fKew99Ty",
        "outputId": "6538b7a1-1ad0-48f8-b5c7-49642cb0e6a7"
      },
      "source": [
        "# use 'plotcurrency' function to plot EUR % change\n",
        "plotcurrency(\"EUR\")"
      ],
      "execution_count": null,
      "outputs": [
        {
          "output_type": "display_data",
          "data": {
            "image/png": "[encoded data removed]",
            "text/plain": [
              "<Figure size 432x288 with 1 Axes>"
            ]
          },
          "metadata": {
            "tags": [],
            "needs_background": "light"
          }
        }
      ]
    },
    {
      "cell_type": "markdown",
      "metadata": {
        "id": "EFoPPx3A99Tz"
      },
      "source": [
        "### 2c. Statistical Summary\n",
        "Calculate and display the mean, standard deviation, variance, min, and max for each set of data."
      ]
    },
    {
      "cell_type": "code",
      "metadata": {
        "colab": {
          "base_uri": "https://localhost:8080/"
        },
        "id": "xMUtMYBG99T0",
        "outputId": "7ab3a14c-2a98-4bf0-8a3b-5951a7394d07"
      },
      "source": [
        "# use 'getstock' to print the basic statistical summary for MSFT\n",
        "# calculate the variance and print their values\n",
        "std = getstock(\"MSFT\").std()\n",
        "variance = std * std\n",
        "variance = pd.DataFrame(variance)\n",
        "\n",
        "print(getstock('MSFT').describe(), '\\n\\nVariance:\\n', variance)"
      ],
      "execution_count": null,
      "outputs": [
        {
          "output_type": "stream",
          "text": [
            "             open        high         low       close        volume  \\\n",
            "count  252.000000  252.000000  252.000000  252.000000  2.520000e+02   \n",
            "mean   130.339048  131.230952  129.303855  130.382024  2.466310e+07   \n",
            "std     14.995333   14.927131   14.944059   14.900504  7.693475e+06   \n",
            "min     99.550000  100.190000   97.200000   97.400000  8.989150e+06   \n",
            "25%    119.307500  119.912500  118.485000  119.340000  1.842638e+07   \n",
            "50%    134.970000  136.100000  133.575000  135.220000  2.379507e+07   \n",
            "75%    139.667500  140.365000  138.250000  139.177500  2.842352e+07   \n",
            "max    159.450000  159.550000  158.220000  158.960000  5.563639e+07   \n",
            "\n",
            "       % change in close in MSFT  \n",
            "count                 251.000000  \n",
            "mean                    0.185048  \n",
            "std                     1.254968  \n",
            "min                    -3.678797  \n",
            "25%                    -0.503651  \n",
            "50%                     0.142833  \n",
            "75%                     0.914545  \n",
            "max                     4.650924   \n",
            "\n",
            "Variance:\n",
            "                                       0\n",
            "open                       2.248600e+02\n",
            "high                       2.228192e+02\n",
            "low                        2.233249e+02\n",
            "close                      2.220250e+02\n",
            "volume                     5.918956e+13\n",
            "% change in close in MSFT  1.574946e+00\n"
          ],
          "name": "stdout"
        }
      ]
    },
    {
      "cell_type": "code",
      "metadata": {
        "id": "Y75BNMVB99T0",
        "outputId": "db0d8b0f-aa08-4f41-8c18-4137a782acce"
      },
      "source": [
        "# use 'getstock' to print the basic statistical summary for SPY\n",
        "# calculate the variance and print their values\n",
        "std = getstock(\"SPY\").std()\n",
        "variance = std * std\n",
        "variance = pd.DataFrame(variance)\n",
        "\n",
        "print(getstock('SPY').describe(), '\\n\\nVariance:\\n', variance)"
      ],
      "execution_count": null,
      "outputs": [
        {
          "output_type": "stream",
          "text": [
            "             open        high         low       close        volume  \\\n",
            "count  252.000000  252.000000  252.000000  252.000000  2.520000e+02   \n",
            "mean   290.853770  292.053452  289.548309  290.995595  7.028362e+07   \n",
            "std     15.286478   14.982946   15.410087   15.106196  2.601800e+07   \n",
            "min    245.980000  248.570000  243.670000  244.210000  2.027001e+07   \n",
            "25%    281.892500  283.155000  280.327500  281.497500  5.076534e+07   \n",
            "50%    291.350000  292.820000  290.005000  291.560000  6.506453e+07   \n",
            "75%    299.772500  300.765000  298.505000  299.907500  8.363440e+07   \n",
            "max    323.740000  323.800000  322.280000  322.940000  1.787454e+08   \n",
            "\n",
            "       % change in close in SPY  \n",
            "count                251.000000  \n",
            "mean                   0.103555  \n",
            "std                    0.792183  \n",
            "min                   -3.007313  \n",
            "25%                   -0.233313  \n",
            "50%                    0.077228  \n",
            "75%                    0.588610  \n",
            "max                    3.349576   \n",
            " open                        2.336764e+02\n",
            "high                        2.244887e+02\n",
            "low                         2.374708e+02\n",
            "close                       2.281972e+02\n",
            "volume                      6.769365e+14\n",
            "% change in close in SPY    6.275540e-01\n",
            "dtype: float64\n"
          ],
          "name": "stdout"
        }
      ]
    },
    {
      "cell_type": "code",
      "metadata": {
        "colab": {
          "base_uri": "https://localhost:8080/"
        },
        "id": "CAxITGke99T1",
        "outputId": "edc30e49-0f2f-4d45-844f-30f855da87aa"
      },
      "source": [
        "# use 'get_crypto_data' to print the basic statistical summary for BTC\n",
        "# calculate the variance and print their values\n",
        "std = get_crypto_data('BTC', 'USD').std()\n",
        "variance = std * std\n",
        "variance = pd.DataFrame(variance)\n",
        "\n",
        "print(get_crypto_data('BTC', 'USD').describe(), '\\n\\n Variance:\\n', variance)"
      ],
      "execution_count": null,
      "outputs": [
        {
          "output_type": "stream",
          "text": [
            "               open          high           low         close  \\\n",
            "count    365.000000    365.000000    365.000000    365.000000   \n",
            "mean    7354.844685   7547.611808   7152.498493   7364.363205   \n",
            "std     2653.563635   2755.156904   2529.877519   2646.572787   \n",
            "min     3398.400000   3426.450000   3349.920000   3398.400000   \n",
            "25%     4144.540000   4897.990000   4140.540000   4857.290000   \n",
            "50%     7795.620000   8042.320000   7481.020000   7790.710000   \n",
            "75%     9528.230000   9794.990000   9320.000000   9529.930000   \n",
            "max    13098.380000  13970.000000  12068.000000  13093.800000   \n",
            "\n",
            "       % change in close in BTC  \n",
            "count                364.000000  \n",
            "mean                   0.239596  \n",
            "std                    3.595256  \n",
            "min                  -13.470574  \n",
            "25%                   -1.319032  \n",
            "50%                    0.086477  \n",
            "75%                    1.642837  \n",
            "max                   17.196759   \n",
            "\n",
            " Variance:\n",
            "                                      0\n",
            "open                      7.041400e+06\n",
            "high                      7.590890e+06\n",
            "low                       6.400280e+06\n",
            "close                     7.004348e+06\n",
            "% change in close in BTC  1.292587e+01\n"
          ],
          "name": "stdout"
        }
      ]
    },
    {
      "cell_type": "code",
      "metadata": {
        "colab": {
          "base_uri": "https://localhost:8080/"
        },
        "id": "T2J4m3rG99T1",
        "outputId": "34ad3d54-8be6-4d6d-a13e-bf4a85273951"
      },
      "source": [
        "# use 'get_crypto_data' to print the basic statistical summary for ETH\n",
        "# calculate the variance and print their values\n",
        "std = get_crypto_data('ETH', 'USD').std()\n",
        "variance = std * std\n",
        "variance = pd.DataFrame(variance)\n",
        "\n",
        "print(get_crypto_data('ETH', \"USD\").describe(), '\\n\\n Variance: ', variance)"
      ],
      "execution_count": null,
      "outputs": [
        {
          "output_type": "stream",
          "text": [
            "             open        high         low       close  \\\n",
            "count  365.000000  365.000000  365.000000  365.000000   \n",
            "mean   180.917425  186.414849  174.886219  180.906411   \n",
            "std     50.598343   52.824238   48.103741   50.602983   \n",
            "min    104.410000  106.180000  100.910000  104.450000   \n",
            "25%    141.410000  145.070000  137.620000  141.380000   \n",
            "50%    173.340000  177.440000  168.000000  173.330000   \n",
            "75%    210.270000  215.830000  202.300000  210.210000   \n",
            "max    339.530000  366.800000  315.570000  339.390000   \n",
            "\n",
            "       % change in close in ETH  \n",
            "count                364.000000  \n",
            "mean                   0.068652  \n",
            "std                    4.205934  \n",
            "min                  -17.626310  \n",
            "25%                   -1.930281  \n",
            "50%                   -0.045630  \n",
            "75%                    1.999945  \n",
            "max                   15.625885   \n",
            "\n",
            " Variance:                                      0\n",
            "open                      2560.192302\n",
            "high                      2790.400113\n",
            "low                       2313.969941\n",
            "close                     2560.661881\n",
            "% change in close in ETH    17.689878\n"
          ],
          "name": "stdout"
        }
      ]
    },
    {
      "cell_type": "code",
      "metadata": {
        "colab": {
          "base_uri": "https://localhost:8080/"
        },
        "id": "eP8MTKQ899T2",
        "outputId": "5e24db10-77f1-417b-e0e7-a36ee554959f"
      },
      "source": [
        "# use 'get_fx_data' to print the basic statistical summary for CNY\n",
        "# calculate the variance and print their values\n",
        "std = get_fx_data('CNY', 'USD').std()\n",
        "variance = std * std\n",
        "variance = pd.DataFrame(variance)\n",
        "\n",
        "print(get_fx_data('CNY','USD').describe(), '\\n\\nVariance:', variance)"
      ],
      "execution_count": null,
      "outputs": [
        {
          "output_type": "stream",
          "text": [
            "          1. open     2. high      3. low    4. close  \\\n",
            "count  252.000000  252.000000  252.000000  252.000000   \n",
            "mean     0.144850    0.145060    0.144638    0.144832   \n",
            "std      0.003126    0.003142    0.003135    0.003129   \n",
            "min      0.139400    0.139400    0.139100    0.139300   \n",
            "25%      0.142000    0.142175    0.141800    0.142000   \n",
            "50%      0.145200    0.145350    0.145000    0.145100   \n",
            "75%      0.148200    0.148300    0.147750    0.148200   \n",
            "max      0.149600    0.149900    0.149300    0.149600   \n",
            "\n",
            "       % change in close in CNY  \n",
            "count                251.000000  \n",
            "mean                  -0.007168  \n",
            "std                    0.245076  \n",
            "min                   -1.526718  \n",
            "25%                   -0.136661  \n",
            "50%                    0.000000  \n",
            "75%                    0.134454  \n",
            "max                    0.774648   \n",
            "\n",
            "Variance:                                  0\n",
            "1. open                   0.000010\n",
            "2. high                   0.000010\n",
            "3. low                    0.000010\n",
            "4. close                  0.000010\n",
            "% change in close in CNY  0.060062\n"
          ],
          "name": "stdout"
        }
      ]
    },
    {
      "cell_type": "code",
      "metadata": {
        "colab": {
          "base_uri": "https://localhost:8080/"
        },
        "id": "60ZGcea499T3",
        "outputId": "0eb28bd2-bcda-4738-eb36-4fa1e745d673"
      },
      "source": [
        "# use 'get_fx_data' to print the basic statistical summary for EUR\n",
        "# calculate the variance and print their values\n",
        "std = get_fx_data('EUR', 'USD').std()\n",
        "variance = std * std\n",
        "variance = pd.DataFrame(variance)\n",
        "\n",
        "print(get_fx_data('EUR', \"USD\").describe(), '\\n\\nVariance:', variance)"
      ],
      "execution_count": null,
      "outputs": [
        {
          "output_type": "stream",
          "text": [
            "          1. open     2. high      3. low    4. close  \\\n",
            "count  252.000000  252.000000  252.000000  252.000000   \n",
            "mean     1.119927    1.122663    1.116946    1.119747   \n",
            "std      0.013690    0.013941    0.013500    0.013595   \n",
            "min      1.089840    1.094280    1.087800    1.089830   \n",
            "25%      1.108225    1.110968    1.106375    1.108190   \n",
            "50%      1.120380    1.122595    1.117550    1.120160   \n",
            "75%      1.129847    1.132700    1.127325    1.129832   \n",
            "max      1.154850    1.156980    1.148300    1.154820   \n",
            "\n",
            "       % change in close in EUR  \n",
            "count                251.000000  \n",
            "mean                  -0.011707  \n",
            "std                    0.317316  \n",
            "min                   -1.081939  \n",
            "25%                   -0.209614  \n",
            "50%                   -0.009673  \n",
            "75%                    0.165191  \n",
            "max                    1.046065   \n",
            "\n",
            "Variance:                                  0\n",
            "1. open                   0.000187\n",
            "2. high                   0.000194\n",
            "3. low                    0.000182\n",
            "4. close                  0.000185\n",
            "% change in close in EUR  0.100689\n"
          ],
          "name": "stdout"
        }
      ]
    },
    {
      "cell_type": "markdown",
      "metadata": {
        "id": "XXHvbVXm99T3"
      },
      "source": [
        "# 3. Regression Analysis"
      ]
    },
    {
      "cell_type": "markdown",
      "metadata": {
        "id": "6ETXR_Bz99T4"
      },
      "source": [
        "### 3a. Linear Regressions\n",
        "Using scikit-learn (we used seaborn instead), perform 5 linear regressions for each of the 5 assets against the SP500. Y should be % change in SP500, and X should be % change for each asset. \n",
        "\n",
        "### 3b. Plotting\n",
        "For each regression, plot the samples and the linear model. Label the Y-axis as 'SP500' and the X-axis as each assets' name."
      ]
    },
    {
      "cell_type": "code",
      "metadata": {
        "colab": {
          "base_uri": "https://localhost:8080/",
          "height": 279
        },
        "id": "o01lCC3Q99T6",
        "outputId": "09ec1169-a43e-4cb3-b497-51b55907b886"
      },
      "source": [
        "# use 'merge' function to merge % change data of SP500 and MSFT\n",
        "new_MSFT = merge('MSFT')\n",
        "\n",
        "# use seaborn to plot the % changes as a regression\n",
        "sns.regplot(x = \"% change in close in MSFT\", \n",
        "            y = \"% change in close in SPY\",\n",
        "            data = new_MSFT, ci = None,\n",
        "            line_kws = {'color':'red'})\n",
        "sns.set(style='dark')\n",
        "plt.show()"
      ],
      "execution_count": null,
      "outputs": [
        {
          "output_type": "display_data",
          "data": {
            "image/png": "[encoded data removed]",
            "text/plain": [
              "<Figure size 432x288 with 1 Axes>"
            ]
          },
          "metadata": {
            "tags": [],
            "needs_background": "light"
          }
        }
      ]
    },
    {
      "cell_type": "code",
      "metadata": {
        "colab": {
          "base_uri": "https://localhost:8080/",
          "height": 285
        },
        "id": "HQ6x8bRV99T7",
        "outputId": "af14d8fe-d5ec-49ca-8c15-a7208aaaef20"
      },
      "source": [
        "# use 'mergeCrypto' function to merge % change data of SP500 and BTC\n",
        "new_BTC = mergeCrypto('BTC')\n",
        "\n",
        "# use seaborn to plot the % changes as a regression\n",
        "sns.regplot(x = \"% change in close in BTC\", \n",
        "            y = \"% change in close in SPY\",\n",
        "            data = new_BTC, ci = None,\n",
        "            line_kws = {'color':'black'})\n",
        "sns.set(style='dark')\n",
        "plt.show()"
      ],
      "execution_count": null,
      "outputs": [
        {
          "output_type": "display_data",
          "data": {
            "image/png": "[encoded data removed]",
            "text/plain": [
              "<Figure size 432x288 with 1 Axes>"
            ]
          },
          "metadata": {
            "tags": [],
            "needs_background": "light"
          }
        }
      ]
    },
    {
      "cell_type": "code",
      "metadata": {
        "colab": {
          "base_uri": "https://localhost:8080/",
          "height": 285
        },
        "id": "lYEElWtO99T7",
        "outputId": "a5b4cfad-23bf-4351-b3e2-e10b85b26743"
      },
      "source": [
        "# use 'mergeCrypto' function to merge % change data of SP500 and ETH\n",
        "new_ETH = mergeCrypto('ETH')\n",
        "\n",
        "# use seaborn to plot the % changes as a regression\n",
        "sns.regplot(x = \"% change in close in ETH\", \n",
        "            y = \"% change in close in SPY\",\n",
        "            data = new_ETH, ci = None,\n",
        "            line_kws = {'color':'black'})\n",
        "sns.set(style='dark')\n",
        "plt.show()"
      ],
      "execution_count": null,
      "outputs": [
        {
          "output_type": "display_data",
          "data": {
            "image/png": "[encoded data removed]",
            "text/plain": [
              "<Figure size 432x288 with 1 Axes>"
            ]
          },
          "metadata": {
            "tags": []
          }
        }
      ]
    },
    {
      "cell_type": "code",
      "metadata": {
        "colab": {
          "base_uri": "https://localhost:8080/",
          "height": 285
        },
        "id": "XcOZR1Ns99T7",
        "outputId": "54f0bb7a-6473-492d-8965-d70ea9f0100d"
      },
      "source": [
        "# use 'mergeCurrency' function to merge % change data of SP500 and CNY\n",
        "new_CNY = mergeCurrency('CNY')\n",
        "\n",
        "# use seaborn to plot the % changes as a regression\n",
        "sns.regplot(x = \"% change in close in CNY\", \n",
        "            y = \"% change in close in SPY\",\n",
        "            data = new_CNY, ci = None,\n",
        "            line_kws = {'color':'green'})\n",
        "sns.set(style='dark')\n",
        "plt.show()"
      ],
      "execution_count": null,
      "outputs": [
        {
          "output_type": "display_data",
          "data": {
            "image/png": "[encoded data removed]",
            "text/plain": [
              "<Figure size 432x288 with 1 Axes>"
            ]
          },
          "metadata": {
            "tags": []
          }
        }
      ]
    },
    {
      "cell_type": "code",
      "metadata": {
        "colab": {
          "base_uri": "https://localhost:8080/",
          "height": 285
        },
        "id": "EKoPEvdo99T8",
        "outputId": "a89424ba-deae-4564-99d0-10541c6dea2c"
      },
      "source": [
        "# use 'mergeCurrency' function to merge % change data of SP500 and EUR\n",
        "new_EUR = mergeCurrency('EUR')\n",
        "\n",
        "\n",
        "# use seaborn to plot the % changes as a regression\n",
        "sns.regplot(x = \"% change in close in EUR\", \n",
        "            y = \"% change in close in SPY\",\n",
        "            data = new_EUR, ci = None,\n",
        "            line_kws = {'color':'green'})\n",
        "sns.set(style='dark')\n",
        "plt.show()"
      ],
      "execution_count": null,
      "outputs": [
        {
          "output_type": "display_data",
          "data": {
            "image/png": "[encoded data removed]",
            "text/plain": [
              "<Figure size 432x288 with 1 Axes>"
            ]
          },
          "metadata": {
            "tags": []
          }
        }
      ]
    },
    {
      "cell_type": "markdown",
      "metadata": {
        "id": "Oign0y-w99T8"
      },
      "source": [
        "### 3c. Statistical Summary\n",
        "Calculate and display the intercept, coefficient (slope), R^2, and the MSE (Mean Square Error)."
      ]
    },
    {
      "cell_type": "code",
      "metadata": {
        "colab": {
          "base_uri": "https://localhost:8080/"
        },
        "id": "yY9MYgLM99T9",
        "outputId": "2280dd7f-7c5b-4ff9-e382-b4d11ff7adba"
      },
      "source": [
        "# use 'merge' to bring together % change data of MSFT and SPY\n",
        "x = merge('MSFT')['% change in close in MSFT']\n",
        "y = merge('MSFT')['% change in close in SPY']\n",
        "\n",
        "# run 'linearRegression' function to find values\n",
        "b0,b1,mse,R2= linearRegression(x,y)\n",
        "print(\"Intercept (Regressing SPY on MSFT):\", b0)\n",
        "print(\"Slope (Regressing SPY on MSFT):\", b1)\n",
        "print(\"MSE:\", mse)\n",
        "print(\"R-squared:\", R2)"
      ],
      "execution_count": null,
      "outputs": [
        {
          "output_type": "stream",
          "text": [
            "Intercept (Regressing SPY on MSFT): 0.008667691843432246\n",
            "Slope (Regressing SPY on MSFT): 0.5127737921260107\n",
            "MSE: 0.21259215272034324\n",
            "R-squared: 0.6598818164502336\n"
          ],
          "name": "stdout"
        }
      ]
    },
    {
      "cell_type": "code",
      "metadata": {
        "id": "dRygEU2299T9",
        "outputId": "46a96b0c-8d4d-4d08-99ea-168984166718"
      },
      "source": [
        "# isolate % change columns for BTC and SPY\n",
        "BTC = get_crypto_data(\"BTC\", 'USD')['% change in close in BTC']\n",
        "BTC = BTC.iloc[1:252]\n",
        "\n",
        "SP500 = getstock(\"SPY\")['% change in close in SPY']\n",
        "SP500 = SP500.iloc[1:]\n",
        "\n",
        "# run 'linearRegression' function to find values\n",
        "b0,b1,mse,R2 = linearRegression(BTC, SP500)\n",
        "\n",
        "print(\"Intercept (Regressing SPY on BTC):\", b0)\n",
        "print(\"Slope (Regressing SPY on BTC):\", b1)\n",
        "print(\"MSE:\", mse)\n",
        "print(\"R-squared:\",R2)"
      ],
      "execution_count": null,
      "outputs": [
        {
          "output_type": "stream",
          "text": [
            "Intercept (Regressing SPY on BTC): 0.10957570987389545\n",
            "Slope (Regressing SPY on BTC): -0.012864812806682694\n",
            "MSE 0.6227389106917404\n",
            "R-squared: 0.0037034555604882335\n"
          ],
          "name": "stdout"
        }
      ]
    },
    {
      "cell_type": "code",
      "metadata": {
        "id": "6t7cM6Nc99T-",
        "outputId": "dc402959-f497-4937-a40d-dfe6da1a2493"
      },
      "source": [
        "# isolate % change columns for ETC and SPY\n",
        "ETH = get_crypto_data(\"ETH\", 'USD')['% change in close in ETH']\n",
        "ETH = ETH.iloc[1:252]\n",
        "\n",
        "SP500 = getstock(\"SPY\")['% change in close in SPY']\n",
        "SP500 = SP500.iloc[1:]\n",
        "\n",
        "# run 'linearRegression' function to find values\n",
        "b0,b1,mse,R2 = linearRegression(ETH,SP500)\n",
        "\n",
        "print(\"Intercept (Regressing SPY on ETH):\", b0)\n",
        "print(\"Slope (Regressing SPY on ETH):\", b1)\n",
        "print(\"MSE:\", mse)\n",
        "print(\"R-squared:\", R2)"
      ],
      "execution_count": null,
      "outputs": [
        {
          "output_type": "stream",
          "text": [
            "Intercept (Regressing SPY on ETH): 0.1092219620670818\n",
            "Slope (Regressing SPY on ETH): -0.028072623164182086\n",
            "MSE: 0.6097213064396793\n",
            "R-squared 0.024529830644073547\n"
          ],
          "name": "stdout"
        }
      ]
    },
    {
      "cell_type": "code",
      "metadata": {
        "colab": {
          "base_uri": "https://localhost:8080/"
        },
        "id": "L9FG-gFH99T-",
        "outputId": "79d23782-7245-4c01-9a12-f90dd6810525"
      },
      "source": [
        "# use 'mergeCurrency' to bring together % change data \n",
        "# of CNY and SPY\n",
        "x = mergeCurrency('CNY')['% change in close in CNY']\n",
        "y = mergeCurrency('CNY')['% change in close in SPY']\n",
        "\n",
        "# run 'linearRegression' function to find values\n",
        "b0,b1,mse,R2 = linearRegression(x,y)\n",
        "\n",
        "print(\"Intercept (Regressing SPY on CNY):\",b0)\n",
        "print(\"Slope (Regressing SPY on ETH):\", b1)\n",
        "print(\"MSE:\", mse)\n",
        "print(\"R-squared:\",R2)"
      ],
      "execution_count": null,
      "outputs": [
        {
          "output_type": "stream",
          "text": [
            "Intercept (Regressing SPY on CNY): 0.10140219674531965\n",
            "Slope (Regressing SPY on ETH): -0.3004082895384696\n",
            "MSE 0.6196550235362367\n",
            "R-squared 0.008637250548594544\n"
          ],
          "name": "stdout"
        }
      ]
    },
    {
      "cell_type": "code",
      "metadata": {
        "colab": {
          "base_uri": "https://localhost:8080/"
        },
        "id": "tOPJJK-099T_",
        "outputId": "a6bc0463-fe9c-43dd-e42e-04883ce407f4"
      },
      "source": [
        "# use 'mergeCurrency' to bring together % change data \n",
        "# of EUR and SPY\n",
        "x = mergeCurrency('EUR')['% change in close in EUR']\n",
        "y = mergeCurrency('EUR')['% change in close in SPY']\n",
        "\n",
        "print(\"Intercept (Regressing SPY on CNY):\", b0)\n",
        "print(\"Slope (Regressing SPY on ETH):\", b1)\n",
        "print(\"MSE:\", mse)\n",
        "print(\"R-squared\",R2)"
      ],
      "execution_count": null,
      "outputs": [
        {
          "output_type": "stream",
          "text": [
            "Intercept (Regressing SPY on CNY): 0.10140219674531965\n",
            "Slope (Regressing SPY on ETH): -0.3004082895384696\n",
            "MSE: 0.6196550235362367\n",
            "R-squared 0.008637250548594544\n"
          ],
          "name": "stdout"
        }
      ]
    },
    {
      "cell_type": "markdown",
      "metadata": {
        "id": "tZNy2KrS99UA"
      },
      "source": [
        "### 3d. Correlation with SP500\n",
        "Which asset is highly correlated w/ the SP500 and which asset is the least correlated?\n",
        "As we can see in the data below, the stock Microsoft has the highest correlation with the SP 500.\n",
        "\n",
        "\n",
        "**ANSWER:** As we can see from the below correlation matrices:\n",
        "- Least correlated with SP500 (SPY) = Bitcoin (BTC)\n",
        "- Most correlated with SP500 (SPY) = Microsoft (MSFT)"
      ]
    },
    {
      "cell_type": "code",
      "metadata": {
        "colab": {
          "base_uri": "https://localhost:8080/",
          "height": 197
        },
        "id": "QGwj_mck99UA",
        "outputId": "b5d9f1b4-b426-43bc-874c-c2409ce71607"
      },
      "source": [
        "print(\"Correlation matrix for MSFT and SPY:\")\n",
        "merge('MSFT').corr()"
      ],
      "execution_count": null,
      "outputs": [
        {
          "output_type": "stream",
          "text": [
            "Correlation matrix for MSFT and SPY:\n",
            "\n"
          ],
          "name": "stdout"
        },
        {
          "output_type": "execute_result",
          "data": {
            "text/html": [
              "<div>\n",
              "<style scoped>\n",
              "    .dataframe tbody tr th:only-of-type {\n",
              "        vertical-align: middle;\n",
              "    }\n",
              "\n",
              "    .dataframe tbody tr th {\n",
              "        vertical-align: top;\n",
              "    }\n",
              "\n",
              "    .dataframe thead th {\n",
              "        text-align: right;\n",
              "    }\n",
              "</style>\n",
              "<table border=\"1\" class=\"dataframe\">\n",
              "  <thead>\n",
              "    <tr style=\"text-align: right;\">\n",
              "      <th></th>\n",
              "      <th>% change in close in MSFT</th>\n",
              "      <th>% change in close in SPY</th>\n",
              "    </tr>\n",
              "  </thead>\n",
              "  <tbody>\n",
              "    <tr>\n",
              "      <th>% change in close in MSFT</th>\n",
              "      <td>1.000000</td>\n",
              "      <td>0.812331</td>\n",
              "    </tr>\n",
              "    <tr>\n",
              "      <th>% change in close in SPY</th>\n",
              "      <td>0.812331</td>\n",
              "      <td>1.000000</td>\n",
              "    </tr>\n",
              "  </tbody>\n",
              "</table>\n",
              "</div>"
            ],
            "text/plain": [
              "                           % change in close in MSFT  % change in close in SPY\n",
              "% change in close in MSFT                   1.000000                  0.812331\n",
              "% change in close in SPY                    0.812331                  1.000000"
            ]
          },
          "metadata": {
            "tags": []
          },
          "execution_count": 57
        }
      ]
    },
    {
      "cell_type": "code",
      "metadata": {
        "colab": {
          "base_uri": "https://localhost:8080/",
          "height": 197
        },
        "id": "lulEDlfj99UA",
        "outputId": "12d8f78e-1bc2-4798-86fb-7a25c5c27596"
      },
      "source": [
        "print(\"Correlation matrix for BTC and SPY:\")\n",
        "mergeCrypto('BTC').corr()"
      ],
      "execution_count": null,
      "outputs": [
        {
          "output_type": "stream",
          "text": [
            "Correlation matrix for BTC and SPY:\n"
          ],
          "name": "stdout"
        },
        {
          "output_type": "execute_result",
          "data": {
            "text/html": [
              "<div>\n",
              "<style scoped>\n",
              "    .dataframe tbody tr th:only-of-type {\n",
              "        vertical-align: middle;\n",
              "    }\n",
              "\n",
              "    .dataframe tbody tr th {\n",
              "        vertical-align: top;\n",
              "    }\n",
              "\n",
              "    .dataframe thead th {\n",
              "        text-align: right;\n",
              "    }\n",
              "</style>\n",
              "<table border=\"1\" class=\"dataframe\">\n",
              "  <thead>\n",
              "    <tr style=\"text-align: right;\">\n",
              "      <th></th>\n",
              "      <th>% change in close in BTC</th>\n",
              "      <th>% change in close in SPY</th>\n",
              "    </tr>\n",
              "  </thead>\n",
              "  <tbody>\n",
              "    <tr>\n",
              "      <th>% change in close in BTC</th>\n",
              "      <td>1.000000</td>\n",
              "      <td>-0.060856</td>\n",
              "    </tr>\n",
              "    <tr>\n",
              "      <th>% change in close in SPY</th>\n",
              "      <td>-0.060856</td>\n",
              "      <td>1.000000</td>\n",
              "    </tr>\n",
              "  </tbody>\n",
              "</table>\n",
              "</div>"
            ],
            "text/plain": [
              "                          % change in close in BTC  % change in close in SPY\n",
              "% change in close in BTC                  1.000000                 -0.060856\n",
              "% change in close in SPY                 -0.060856                  1.000000"
            ]
          },
          "metadata": {
            "tags": []
          },
          "execution_count": 58
        }
      ]
    },
    {
      "cell_type": "code",
      "metadata": {
        "id": "jU_VXAlD99UB",
        "outputId": "7bc8ba09-ef1e-48ad-9ee0-a9f39e930eb3"
      },
      "source": [
        "print(\"Correlation matrix for ETH and SPY:\")\n",
        "mergeCrypto('ETH').corr()"
      ],
      "execution_count": null,
      "outputs": [
        {
          "output_type": "execute_result",
          "data": {
            "text/html": [
              "<div>\n",
              "<style scoped>\n",
              "    .dataframe tbody tr th:only-of-type {\n",
              "        vertical-align: middle;\n",
              "    }\n",
              "\n",
              "    .dataframe tbody tr th {\n",
              "        vertical-align: top;\n",
              "    }\n",
              "\n",
              "    .dataframe thead th {\n",
              "        text-align: right;\n",
              "    }\n",
              "</style>\n",
              "<table border=\"1\" class=\"dataframe\">\n",
              "  <thead>\n",
              "    <tr style=\"text-align: right;\">\n",
              "      <th></th>\n",
              "      <th>% change in close in ETH</th>\n",
              "      <th>% change in close in SPY</th>\n",
              "    </tr>\n",
              "  </thead>\n",
              "  <tbody>\n",
              "    <tr>\n",
              "      <th>% change in close in ETH</th>\n",
              "      <td>1.00000</td>\n",
              "      <td>-0.15662</td>\n",
              "    </tr>\n",
              "    <tr>\n",
              "      <th>% change in close in SPY</th>\n",
              "      <td>-0.15662</td>\n",
              "      <td>1.00000</td>\n",
              "    </tr>\n",
              "  </tbody>\n",
              "</table>\n",
              "</div>"
            ],
            "text/plain": [
              "                          % change in close in ETH  % change in close in SPY\n",
              "% change in close in ETH                   1.00000                  -0.15662\n",
              "% change in close in SPY                  -0.15662                   1.00000"
            ]
          },
          "metadata": {
            "tags": []
          },
          "execution_count": 55
        }
      ]
    },
    {
      "cell_type": "code",
      "metadata": {
        "id": "UTcMJwaf99UB",
        "outputId": "40117ebe-94ec-4e7d-b5b1-1837bcde6091"
      },
      "source": [
        "print(\"Correlation matrix for CNY and SPY:\")\n",
        "mergeCurrency('CNY').corr()"
      ],
      "execution_count": null,
      "outputs": [
        {
          "output_type": "stream",
          "text": [
            "Correlation matrix for CNY and SPY:\n"
          ],
          "name": "stdout"
        },
        {
          "output_type": "execute_result",
          "data": {
            "text/html": [
              "<div>\n",
              "<style scoped>\n",
              "    .dataframe tbody tr th:only-of-type {\n",
              "        vertical-align: middle;\n",
              "    }\n",
              "\n",
              "    .dataframe tbody tr th {\n",
              "        vertical-align: top;\n",
              "    }\n",
              "\n",
              "    .dataframe thead th {\n",
              "        text-align: right;\n",
              "    }\n",
              "</style>\n",
              "<table border=\"1\" class=\"dataframe\">\n",
              "  <thead>\n",
              "    <tr style=\"text-align: right;\">\n",
              "      <th></th>\n",
              "      <th>% change in close in CNY</th>\n",
              "      <th>% change in close in SPY</th>\n",
              "    </tr>\n",
              "  </thead>\n",
              "  <tbody>\n",
              "    <tr>\n",
              "      <th>% change in close in CNY</th>\n",
              "      <td>1.000000</td>\n",
              "      <td>-0.092937</td>\n",
              "    </tr>\n",
              "    <tr>\n",
              "      <th>% change in close in SPY</th>\n",
              "      <td>-0.092937</td>\n",
              "      <td>1.000000</td>\n",
              "    </tr>\n",
              "  </tbody>\n",
              "</table>\n",
              "</div>"
            ],
            "text/plain": [
              "                          % change in close in CNY  % change in close in SPY\n",
              "% change in close in CNY                  1.000000                 -0.092937\n",
              "% change in close in SPY                 -0.092937                  1.000000"
            ]
          },
          "metadata": {
            "tags": []
          },
          "execution_count": 62
        }
      ]
    },
    {
      "cell_type": "code",
      "metadata": {
        "id": "8lq-nlyb99UB",
        "outputId": "280bb7a6-6b46-475f-cc0a-de9fb83d11d5"
      },
      "source": [
        "print(\"Correlation matrix for EUR and SPY:\")\n",
        "mergeCurrency('EUR').corr()"
      ],
      "execution_count": null,
      "outputs": [
        {
          "output_type": "stream",
          "text": [
            "Correlation matrix for EUR and SPY:\n"
          ],
          "name": "stdout"
        },
        {
          "output_type": "execute_result",
          "data": {
            "text/html": [
              "<div>\n",
              "<style scoped>\n",
              "    .dataframe tbody tr th:only-of-type {\n",
              "        vertical-align: middle;\n",
              "    }\n",
              "\n",
              "    .dataframe tbody tr th {\n",
              "        vertical-align: top;\n",
              "    }\n",
              "\n",
              "    .dataframe thead th {\n",
              "        text-align: right;\n",
              "    }\n",
              "</style>\n",
              "<table border=\"1\" class=\"dataframe\">\n",
              "  <thead>\n",
              "    <tr style=\"text-align: right;\">\n",
              "      <th></th>\n",
              "      <th>% change in close in EUR</th>\n",
              "      <th>% change in close in SPY</th>\n",
              "    </tr>\n",
              "  </thead>\n",
              "  <tbody>\n",
              "    <tr>\n",
              "      <th>% change in close in EUR</th>\n",
              "      <td>1.00000</td>\n",
              "      <td>0.15334</td>\n",
              "    </tr>\n",
              "    <tr>\n",
              "      <th>% change in close in SPY</th>\n",
              "      <td>0.15334</td>\n",
              "      <td>1.00000</td>\n",
              "    </tr>\n",
              "  </tbody>\n",
              "</table>\n",
              "</div>"
            ],
            "text/plain": [
              "                          % change in close in EUR  % change in close in SPY\n",
              "% change in close in EUR                   1.00000                   0.15334\n",
              "% change in close in SPY                   0.15334                   1.00000"
            ]
          },
          "metadata": {
            "tags": []
          },
          "execution_count": 61
        }
      ]
    },
    {
      "cell_type": "code",
      "metadata": {
        "id": "gK8xXXAw99UC"
      },
      "source": [
        ""
      ],
      "execution_count": null,
      "outputs": []
    },
    {
      "cell_type": "code",
      "metadata": {
        "id": "mcLQ3RUG99UC"
      },
      "source": [
        ""
      ],
      "execution_count": null,
      "outputs": []
    },
    {
      "cell_type": "code",
      "metadata": {
        "id": "nBoLpmSv99UC"
      },
      "source": [
        ""
      ],
      "execution_count": null,
      "outputs": []
    },
    {
      "cell_type": "code",
      "metadata": {
        "id": "RstBasrf99UD"
      },
      "source": [
        ""
      ],
      "execution_count": null,
      "outputs": []
    }
  ]
}